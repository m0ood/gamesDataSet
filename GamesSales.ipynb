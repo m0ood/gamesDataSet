{
 "cells": [
  {
   "cell_type": "markdown",
   "id": "d8ccc256-0c31-4103-864c-add4bdc5b7b7",
   "metadata": {},
   "source": [
    "## Добавляем необходимые библиотеки"
   ]
  },
  {
   "cell_type": "code",
   "execution_count": 11,
   "id": "5ab75cb8",
   "metadata": {},
   "outputs": [],
   "source": [
    "import pandas as pd\n",
    "import seaborn as sns"
   ]
  },
  {
   "cell_type": "markdown",
   "id": "523d1687",
   "metadata": {},
   "source": [
    "## Чтение датасета"
   ]
  },
  {
   "cell_type": "code",
   "execution_count": 34,
   "id": "55ce4867",
   "metadata": {},
   "outputs": [
    {
     "data": {
      "text/html": [
       "<div>\n",
       "<style scoped>\n",
       "    .dataframe tbody tr th:only-of-type {\n",
       "        vertical-align: middle;\n",
       "    }\n",
       "\n",
       "    .dataframe tbody tr th {\n",
       "        vertical-align: top;\n",
       "    }\n",
       "\n",
       "    .dataframe thead th {\n",
       "        text-align: right;\n",
       "    }\n",
       "</style>\n",
       "<table border=\"1\" class=\"dataframe\">\n",
       "  <thead>\n",
       "    <tr style=\"text-align: right;\">\n",
       "      <th></th>\n",
       "      <th>Name</th>\n",
       "      <th>Platform</th>\n",
       "      <th>Year</th>\n",
       "      <th>Genre</th>\n",
       "      <th>Publisher</th>\n",
       "      <th>NA_Sales</th>\n",
       "      <th>EU_Sales</th>\n",
       "      <th>JP_Sales</th>\n",
       "      <th>Other_Sales</th>\n",
       "      <th>Global_Sales</th>\n",
       "    </tr>\n",
       "  </thead>\n",
       "  <tbody>\n",
       "    <tr>\n",
       "      <th>0</th>\n",
       "      <td>Kaboom!</td>\n",
       "      <td>2600</td>\n",
       "      <td>1980.0</td>\n",
       "      <td>Misc</td>\n",
       "      <td>Activision</td>\n",
       "      <td>1.07</td>\n",
       "      <td>0.07</td>\n",
       "      <td>0.0</td>\n",
       "      <td>0.01</td>\n",
       "      <td>1.15</td>\n",
       "    </tr>\n",
       "    <tr>\n",
       "      <th>1</th>\n",
       "      <td>Boxing</td>\n",
       "      <td>2600</td>\n",
       "      <td>1980.0</td>\n",
       "      <td>Fighting</td>\n",
       "      <td>Activision</td>\n",
       "      <td>0.72</td>\n",
       "      <td>0.04</td>\n",
       "      <td>0.0</td>\n",
       "      <td>0.01</td>\n",
       "      <td>0.77</td>\n",
       "    </tr>\n",
       "    <tr>\n",
       "      <th>2</th>\n",
       "      <td>Ice Hockey</td>\n",
       "      <td>2600</td>\n",
       "      <td>1980.0</td>\n",
       "      <td>Sports</td>\n",
       "      <td>Activision</td>\n",
       "      <td>0.46</td>\n",
       "      <td>0.03</td>\n",
       "      <td>0.0</td>\n",
       "      <td>0.01</td>\n",
       "      <td>0.49</td>\n",
       "    </tr>\n",
       "    <tr>\n",
       "      <th>3</th>\n",
       "      <td>Freeway</td>\n",
       "      <td>2600</td>\n",
       "      <td>1980.0</td>\n",
       "      <td>Action</td>\n",
       "      <td>Activision</td>\n",
       "      <td>0.32</td>\n",
       "      <td>0.02</td>\n",
       "      <td>0.0</td>\n",
       "      <td>0.00</td>\n",
       "      <td>0.34</td>\n",
       "    </tr>\n",
       "    <tr>\n",
       "      <th>4</th>\n",
       "      <td>Bridge</td>\n",
       "      <td>2600</td>\n",
       "      <td>1980.0</td>\n",
       "      <td>Misc</td>\n",
       "      <td>Activision</td>\n",
       "      <td>0.25</td>\n",
       "      <td>0.02</td>\n",
       "      <td>0.0</td>\n",
       "      <td>0.00</td>\n",
       "      <td>0.27</td>\n",
       "    </tr>\n",
       "    <tr>\n",
       "      <th>...</th>\n",
       "      <td>...</td>\n",
       "      <td>...</td>\n",
       "      <td>...</td>\n",
       "      <td>...</td>\n",
       "      <td>...</td>\n",
       "      <td>...</td>\n",
       "      <td>...</td>\n",
       "      <td>...</td>\n",
       "      <td>...</td>\n",
       "      <td>...</td>\n",
       "    </tr>\n",
       "    <tr>\n",
       "      <th>16534</th>\n",
       "      <td>LEGO Harry Potter: Years 5-7</td>\n",
       "      <td>PC</td>\n",
       "      <td>NaN</td>\n",
       "      <td>Action</td>\n",
       "      <td>Warner Bros. Interactive Entertainment</td>\n",
       "      <td>0.05</td>\n",
       "      <td>0.14</td>\n",
       "      <td>0.0</td>\n",
       "      <td>0.03</td>\n",
       "      <td>0.22</td>\n",
       "    </tr>\n",
       "    <tr>\n",
       "      <th>16535</th>\n",
       "      <td>Happy Feet Two</td>\n",
       "      <td>DS</td>\n",
       "      <td>NaN</td>\n",
       "      <td>Action</td>\n",
       "      <td>Warner Bros. Interactive Entertainment</td>\n",
       "      <td>0.09</td>\n",
       "      <td>0.02</td>\n",
       "      <td>0.0</td>\n",
       "      <td>0.01</td>\n",
       "      <td>0.12</td>\n",
       "    </tr>\n",
       "    <tr>\n",
       "      <th>16536</th>\n",
       "      <td>Happy Feet Two</td>\n",
       "      <td>PS3</td>\n",
       "      <td>NaN</td>\n",
       "      <td>Action</td>\n",
       "      <td>Warner Bros. Interactive Entertainment</td>\n",
       "      <td>0.09</td>\n",
       "      <td>0.01</td>\n",
       "      <td>0.0</td>\n",
       "      <td>0.01</td>\n",
       "      <td>0.10</td>\n",
       "    </tr>\n",
       "    <tr>\n",
       "      <th>16537</th>\n",
       "      <td>Happy Feet Two</td>\n",
       "      <td>X360</td>\n",
       "      <td>NaN</td>\n",
       "      <td>Action</td>\n",
       "      <td>Warner Bros. Interactive Entertainment</td>\n",
       "      <td>0.08</td>\n",
       "      <td>0.01</td>\n",
       "      <td>0.0</td>\n",
       "      <td>0.01</td>\n",
       "      <td>0.10</td>\n",
       "    </tr>\n",
       "    <tr>\n",
       "      <th>16538</th>\n",
       "      <td>Happy Feet Two</td>\n",
       "      <td>Wii</td>\n",
       "      <td>NaN</td>\n",
       "      <td>Action</td>\n",
       "      <td>Warner Bros. Interactive Entertainment</td>\n",
       "      <td>0.07</td>\n",
       "      <td>0.01</td>\n",
       "      <td>0.0</td>\n",
       "      <td>0.01</td>\n",
       "      <td>0.09</td>\n",
       "    </tr>\n",
       "  </tbody>\n",
       "</table>\n",
       "<p>16539 rows × 10 columns</p>\n",
       "</div>"
      ],
      "text/plain": [
       "                               Name Platform    Year     Genre  \\\n",
       "0                           Kaboom!     2600  1980.0      Misc   \n",
       "1                            Boxing     2600  1980.0  Fighting   \n",
       "2                        Ice Hockey     2600  1980.0    Sports   \n",
       "3                           Freeway     2600  1980.0    Action   \n",
       "4                            Bridge     2600  1980.0      Misc   \n",
       "...                             ...      ...     ...       ...   \n",
       "16534  LEGO Harry Potter: Years 5-7       PC     NaN    Action   \n",
       "16535                Happy Feet Two       DS     NaN    Action   \n",
       "16536                Happy Feet Two      PS3     NaN    Action   \n",
       "16537                Happy Feet Two     X360     NaN    Action   \n",
       "16538                Happy Feet Two      Wii     NaN    Action   \n",
       "\n",
       "                                    Publisher  NA_Sales  EU_Sales  JP_Sales  \\\n",
       "0                                  Activision      1.07      0.07       0.0   \n",
       "1                                  Activision      0.72      0.04       0.0   \n",
       "2                                  Activision      0.46      0.03       0.0   \n",
       "3                                  Activision      0.32      0.02       0.0   \n",
       "4                                  Activision      0.25      0.02       0.0   \n",
       "...                                       ...       ...       ...       ...   \n",
       "16534  Warner Bros. Interactive Entertainment      0.05      0.14       0.0   \n",
       "16535  Warner Bros. Interactive Entertainment      0.09      0.02       0.0   \n",
       "16536  Warner Bros. Interactive Entertainment      0.09      0.01       0.0   \n",
       "16537  Warner Bros. Interactive Entertainment      0.08      0.01       0.0   \n",
       "16538  Warner Bros. Interactive Entertainment      0.07      0.01       0.0   \n",
       "\n",
       "       Other_Sales  Global_Sales  \n",
       "0             0.01          1.15  \n",
       "1             0.01          0.77  \n",
       "2             0.01          0.49  \n",
       "3             0.00          0.34  \n",
       "4             0.00          0.27  \n",
       "...            ...           ...  \n",
       "16534         0.03          0.22  \n",
       "16535         0.01          0.12  \n",
       "16536         0.01          0.10  \n",
       "16537         0.01          0.10  \n",
       "16538         0.01          0.09  \n",
       "\n",
       "[16539 rows x 10 columns]"
      ]
     },
     "execution_count": 34,
     "metadata": {},
     "output_type": "execute_result"
    }
   ],
   "source": [
    "videogames = pd.read_csv(\"vgsales.csv\")\n",
    "videogames"
   ]
  },
  {
   "cell_type": "markdown",
   "id": "12d64eee",
   "metadata": {},
   "source": [
    "## Вытягивание из датасета столбца Genre и Global_Sales"
   ]
  },
  {
   "cell_type": "code",
   "execution_count": 37,
   "id": "27ad33e6",
   "metadata": {
    "scrolled": false
   },
   "outputs": [],
   "source": [
    "GenceAndGlobal_Sales = pd.crosstab(videogames[\"Genre\"], videogames[\"Global_Sales\"], margins=True)"
   ]
  },
  {
   "cell_type": "markdown",
   "id": "b898b4c6",
   "metadata": {},
   "source": [
    "## Установка размера графика"
   ]
  },
  {
   "cell_type": "code",
   "execution_count": 38,
   "id": "1aae12c1",
   "metadata": {},
   "outputs": [],
   "source": [
    "sns.set(rc={\"figure.figsize\":(15, 4)})"
   ]
  },
  {
   "cell_type": "markdown",
   "id": "347411a3",
   "metadata": {},
   "source": [
    "## Формирование графика по стобцам"
   ]
  },
  {
   "cell_type": "code",
   "execution_count": 39,
   "id": "884a9f27",
   "metadata": {},
   "outputs": [
    {
     "data": {
      "text/plain": [
       "[Text(0.5, 0, 'Genre'), Text(0, 0.5, 'Sales(in millions)')]"
      ]
     },
     "execution_count": 39,
     "metadata": {},
     "output_type": "execute_result"
    },
    {
     "data": {
      "image/png": "[encoded data removed]",
      "text/plain": [
       "<Figure size 1500x400 with 1 Axes>"
      ]
     },
     "metadata": {},
     "output_type": "display_data"
    }
   ],
   "source": [
    "chart = sns.barplot(x=GenceAndGlobal_Sales[\"All\"][:12].index, y=GenceAndGlobal_Sales[\"All\"][:12])\n",
    "chart.set(xlabel='Genre', ylabel='Sales(in millions)')"
   ]
  },
  {
   "cell_type": "code",
   "execution_count": null,
   "id": "9034442b",
   "metadata": {},
   "outputs": [],
   "source": []
  }
 ],
 "metadata": {
  "kernelspec": {
   "display_name": "Python 3 (ipykernel)",
   "language": "python",
   "name": "python3"
  },
  "language_info": {
   "codemirror_mode": {
    "name": "ipython",
    "version": 3
   },
   "file_extension": ".py",
   "mimetype": "text/x-python",
   "name": "python",
   "nbconvert_exporter": "python",
   "pygments_lexer": "ipython3",
   "version": "3.10.0"
  }
 },
 "nbformat": 4,
 "nbformat_minor": 5
}
